{
 "cells": [
  {
   "cell_type": "markdown",
   "metadata": {},
   "source": [
    "## pickle some weather csvs"
   ]
  },
  {
   "cell_type": "code",
   "execution_count": 1,
   "metadata": {},
   "outputs": [],
   "source": [
    "import pandas as pd\n",
    "import pickle\n"
   ]
  },
  {
   "cell_type": "code",
   "execution_count": 24,
   "metadata": {},
   "outputs": [],
   "source": [
    "filepath = '/Users/jontypedersen/ODSL/Projects - Documents/RND - Research and Development/P-RND-ODSL-44053 AVENTIS Development/Input Data/Weather/EAG_site.csv'"
   ]
  },
  {
   "cell_type": "code",
   "execution_count": 25,
   "metadata": {},
   "outputs": [
    {
     "data": {
      "text/plain": [
       "'/Users/jontypedersen/ODSL/Projects - Documents/RND - Research and Development/P-RND-ODSL-44053 AVENTIS Development/Input Data/Weather/EAG_site.csv'"
      ]
     },
     "execution_count": 25,
     "metadata": {},
     "output_type": "execute_result"
    }
   ],
   "source": [
    "filepath"
   ]
  },
  {
   "cell_type": "code",
   "execution_count": 28,
   "metadata": {},
   "outputs": [],
   "source": [
    "def f_read_csv_and_save_pickle(filepath, fileID):\n",
    "\n",
    "    ts_info = pd.read_csv(filepath, skiprows=2, nrows=6,\n",
    "                              usecols=['Variable', 'Value'])\n",
    "    ts_data = pd.read_csv(filepath, skiprows=10, parse_dates=['Dates'], dayfirst=True)\n",
    "\n",
    "    weather_dict = {}\n",
    "    weather_dict[\"info\"] = ts_info\n",
    "    weather_dict[\"data\"] = ts_data\n",
    "    \n",
    "    fileID_aux = \"\".join([fileID, \".p\"])\n",
    "    \n",
    "    with open(fileID_aux, 'wb') as fp:\n",
    "        pickle.dump(weather_dict, fp, protocol=pickle.HIGHEST_PROTOCOL)"
   ]
  },
  {
   "cell_type": "code",
   "execution_count": 29,
   "metadata": {},
   "outputs": [],
   "source": [
    "f_read_csv_and_save_pickle(filepath, \"EAG_Site\")"
   ]
  },
  {
   "cell_type": "code",
   "execution_count": null,
   "metadata": {},
   "outputs": [],
   "source": []
  },
  {
   "cell_type": "markdown",
   "metadata": {},
   "source": [
    "This is not part of the code-- this is loading it up and re-converting to a csv"
   ]
  },
  {
   "cell_type": "code",
   "execution_count": 18,
   "metadata": {},
   "outputs": [],
   "source": [
    "weather_dict_pickle = pickle.load( open( '/Users/jontypedersen/ODSL/Projects - Documents/RND - Research and Development/P-RND-ODSL-44053 AVENTIS Development/Test Cases/MP Installation/BE_Site.p', \"rb\" ) )"
   ]
  },
  {
   "cell_type": "code",
   "execution_count": 21,
   "metadata": {},
   "outputs": [],
   "source": [
    "print_to_CSV = weather_dict_pickle['data']"
   ]
  },
  {
   "cell_type": "code",
   "execution_count": 23,
   "metadata": {},
   "outputs": [],
   "source": [
    "print_to_CSV.to_csv('test.csv')"
   ]
  },
  {
   "cell_type": "code",
   "execution_count": null,
   "metadata": {},
   "outputs": [],
   "source": []
  }
 ],
 "metadata": {
  "kernelspec": {
   "display_name": "Python 3",
   "language": "python",
   "name": "python3"
  },
  "language_info": {
   "codemirror_mode": {
    "name": "ipython",
    "version": 3
   },
   "file_extension": ".py",
   "mimetype": "text/x-python",
   "name": "python",
   "nbconvert_exporter": "python",
   "pygments_lexer": "ipython3",
   "version": "3.8.5"
  }
 },
 "nbformat": 4,
 "nbformat_minor": 4
}
